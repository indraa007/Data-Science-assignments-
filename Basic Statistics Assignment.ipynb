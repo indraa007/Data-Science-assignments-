{
 "cells": [
  {
   "cell_type": "code",
   "execution_count": 22,
   "id": "791e48a8",
   "metadata": {},
   "outputs": [],
   "source": [
    "import numpy as np\n",
    "from scipy import stats"
   ]
  },
  {
   "cell_type": "code",
   "execution_count": 6,
   "id": "55051902",
   "metadata": {},
   "outputs": [],
   "source": [
    "data=[1.13, 1.55, 1.43, 0.92, 1.25, 1.36, 1.32, 0.85, 1.07, 1.48, 1.20, 1.33, 1.18, 1.22, 1.29]"
   ]
  },
  {
   "cell_type": "markdown",
   "id": "4ba357a9",
   "metadata": {},
   "source": [
    "# Task a: . Build 99% Confidence Interval Using Sample Standard Deviation"
   ]
  },
  {
   "cell_type": "code",
   "execution_count": 8,
   "id": "5523eb3d",
   "metadata": {},
   "outputs": [
    {
     "data": {
      "text/plain": [
       "15"
      ]
     },
     "execution_count": 8,
     "metadata": {},
     "output_type": "execute_result"
    }
   ],
   "source": [
    "n=len(data)\n",
    "n"
   ]
  },
  {
   "cell_type": "code",
   "execution_count": 14,
   "id": "62b501b9",
   "metadata": {},
   "outputs": [
    {
     "data": {
      "text/plain": [
       "1.2386666666666666"
      ]
     },
     "execution_count": 14,
     "metadata": {},
     "output_type": "execute_result"
    }
   ],
   "source": [
    "mean=np.mean(data)\n",
    "mean"
   ]
  },
  {
   "cell_type": "code",
   "execution_count": 19,
   "id": "0cb71c99",
   "metadata": {},
   "outputs": [
    {
     "data": {
      "text/plain": [
       "0.2004558906656627"
      ]
     },
     "execution_count": 19,
     "metadata": {},
     "output_type": "execute_result"
    }
   ],
   "source": [
    "std=np.std(data,ddof=2)\n",
    "std"
   ]
  },
  {
   "cell_type": "code",
   "execution_count": 26,
   "id": "35ba281a",
   "metadata": {},
   "outputs": [
    {
     "data": {
      "text/plain": [
       "2.624494067560231"
      ]
     },
     "execution_count": 26,
     "metadata": {},
     "output_type": "execute_result"
    }
   ],
   "source": [
    "T_value=stats.t.ppf(0.99,df=14)\n",
    "T_value"
   ]
  },
  {
   "cell_type": "code",
   "execution_count": 28,
   "id": "163b8a75",
   "metadata": {},
   "outputs": [
    {
     "data": {
      "text/plain": [
       "0.13583722129213593"
      ]
     },
     "execution_count": 28,
     "metadata": {},
     "output_type": "execute_result"
    }
   ],
   "source": [
    "T_test=T_value*(std/np.sqrt(n))\n",
    "T_test"
   ]
  },
  {
   "cell_type": "code",
   "execution_count": 29,
   "id": "a329698d",
   "metadata": {},
   "outputs": [],
   "source": [
    "ci_lower=mean-T_test\n",
    "ci_upper=mean+T_test"
   ]
  },
  {
   "cell_type": "code",
   "execution_count": 30,
   "id": "8866bdfb",
   "metadata": {},
   "outputs": [
    {
     "data": {
      "text/plain": [
       "1.1028294453745306"
      ]
     },
     "execution_count": 30,
     "metadata": {},
     "output_type": "execute_result"
    }
   ],
   "source": [
    "ci_lower"
   ]
  },
  {
   "cell_type": "code",
   "execution_count": 31,
   "id": "2fea68be",
   "metadata": {},
   "outputs": [
    {
     "data": {
      "text/plain": [
       "1.3745038879588025"
      ]
     },
     "execution_count": 31,
     "metadata": {},
     "output_type": "execute_result"
    }
   ],
   "source": [
    "ci_upper"
   ]
  },
  {
   "cell_type": "code",
   "execution_count": 35,
   "id": "3072f13f",
   "metadata": {},
   "outputs": [
    {
     "name": "stdout",
     "output_type": "stream",
     "text": [
      "Total number of numbers present is: 15\n",
      "The mean of the given data is: 1.2386666666666666\n",
      "The standard deviation of the given data is: 0.2004558906656627\n",
      "The T test value for givrn data is: 0.13583722129213593\n",
      "Lower confidence interval using standard deviation is: 1.1028294453745306\n",
      "Higher confidence interval using standard derivation is: 1.3745038879588025\n"
     ]
    }
   ],
   "source": [
    "print('Total number of numbers present is:',n)\n",
    "print('The mean of the given data is:',mean)\n",
    "print('The standard deviation of the given data is:',std)\n",
    "print('The T test value for givrn data is:',T_test)\n",
    "print('Lower confidence interval using standard deviation is:',ci_lower)\n",
    "print('Higher confidence interval using standard derivation is:',ci_upper)"
   ]
  },
  {
   "cell_type": "markdown",
   "id": "09bbd9c9",
   "metadata": {},
   "source": [
    "# Task b: Build 99% Confidence Interval Using Known Population Standard Deviation"
   ]
  },
  {
   "cell_type": "code",
   "execution_count": 36,
   "id": "4da4bc86",
   "metadata": {},
   "outputs": [
    {
     "data": {
      "text/plain": [
       "15"
      ]
     },
     "execution_count": 36,
     "metadata": {},
     "output_type": "execute_result"
    }
   ],
   "source": [
    "len(data)"
   ]
  },
  {
   "cell_type": "code",
   "execution_count": 38,
   "id": "f1f57f06",
   "metadata": {},
   "outputs": [
    {
     "data": {
      "text/plain": [
       "1.2386666666666666"
      ]
     },
     "execution_count": 38,
     "metadata": {},
     "output_type": "execute_result"
    }
   ],
   "source": [
    "mean=np.mean(data)\n",
    "mean"
   ]
  },
  {
   "cell_type": "code",
   "execution_count": 39,
   "id": "15b8d2c4",
   "metadata": {},
   "outputs": [
    {
     "data": {
      "text/plain": [
       "0.18661427836285438"
      ]
     },
     "execution_count": 39,
     "metadata": {},
     "output_type": "execute_result"
    }
   ],
   "source": [
    "std=np.std(data)\n",
    "std"
   ]
  },
  {
   "cell_type": "code",
   "execution_count": 40,
   "id": "1415f5b7",
   "metadata": {},
   "outputs": [],
   "source": [
    "known_pop=0.2"
   ]
  },
  {
   "cell_type": "code",
   "execution_count": 42,
   "id": "b588dace",
   "metadata": {},
   "outputs": [
    {
     "data": {
      "text/plain": [
       "2.3263478740408408"
      ]
     },
     "execution_count": 42,
     "metadata": {},
     "output_type": "execute_result"
    }
   ],
   "source": [
    "Z_value=stats.norm.ppf(0.99)\n",
    "Z_value"
   ]
  },
  {
   "cell_type": "code",
   "execution_count": 47,
   "id": "3219bfec",
   "metadata": {},
   "outputs": [
    {
     "data": {
      "text/plain": [
       "0.12013208764860274"
      ]
     },
     "execution_count": 47,
     "metadata": {},
     "output_type": "execute_result"
    }
   ],
   "source": [
    "Z_test=Z_value*(known_pop/np.sqrt(n))\n",
    "Z_test"
   ]
  },
  {
   "cell_type": "code",
   "execution_count": 48,
   "id": "447beda9",
   "metadata": {},
   "outputs": [],
   "source": [
    "ci_lower=mean-Z_test\n",
    "ci_upper=mean+Z_test"
   ]
  },
  {
   "cell_type": "code",
   "execution_count": 49,
   "id": "2307fb43",
   "metadata": {},
   "outputs": [
    {
     "data": {
      "text/plain": [
       "1.1185345790180639"
      ]
     },
     "execution_count": 49,
     "metadata": {},
     "output_type": "execute_result"
    }
   ],
   "source": [
    "ci_lower"
   ]
  },
  {
   "cell_type": "code",
   "execution_count": 50,
   "id": "dd3009dd",
   "metadata": {},
   "outputs": [
    {
     "data": {
      "text/plain": [
       "1.3587987543152693"
      ]
     },
     "execution_count": 50,
     "metadata": {},
     "output_type": "execute_result"
    }
   ],
   "source": [
    "ci_upper"
   ]
  },
  {
   "cell_type": "code",
   "execution_count": 52,
   "id": "24b8cc84",
   "metadata": {},
   "outputs": [
    {
     "name": "stdout",
     "output_type": "stream",
     "text": [
      "The value of known population is: 0.2\n",
      "Total number of data present is: 15\n",
      "The mean of the given data is: 1.2386666666666666\n",
      "The standard deviation of the given data is: 0.18661427836285438\n",
      "The Z value for the given data is: 2.3263478740408408\n",
      "the Z_test value for the given data is: 0.12013208764860274\n",
      "The lower confidence interval for known population standard deviation is: 1.1185345790180639\n",
      "The higher confidence interval for known population standard deviation is: 1.3587987543152693\n"
     ]
    }
   ],
   "source": [
    "print('The value of known population is:',known_pop)\n",
    "print('Total number of data present is:',n)\n",
    "print('The mean of the given data is:',mean)\n",
    "print('The standard deviation of the given data is:',std)\n",
    "print('The Z value for the given data is:',Z_value)\n",
    "print('the Z_test value for the given data is:',Z_test)\n",
    "print('The lower confidence interval for known population standard deviation is:',ci_lower)\n",
    "print('The higher confidence interval for known population standard deviation is:',ci_upper)"
   ]
  },
  {
   "cell_type": "code",
   "execution_count": null,
   "id": "c76dea72",
   "metadata": {},
   "outputs": [],
   "source": []
  }
 ],
 "metadata": {
  "kernelspec": {
   "display_name": "Python 3 (ipykernel)",
   "language": "python",
   "name": "python3"
  },
  "language_info": {
   "codemirror_mode": {
    "name": "ipython",
    "version": 3
   },
   "file_extension": ".py",
   "mimetype": "text/x-python",
   "name": "python",
   "nbconvert_exporter": "python",
   "pygments_lexer": "ipython3",
   "version": "3.9.12"
  }
 },
 "nbformat": 4,
 "nbformat_minor": 5
}
