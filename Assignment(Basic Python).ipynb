{
 "cells": [
  {
   "cell_type": "markdown",
   "id": "cebbc861",
   "metadata": {},
   "source": [
    "# Exercise:-1"
   ]
  },
  {
   "cell_type": "code",
   "execution_count": 2,
   "id": "47638071",
   "metadata": {},
   "outputs": [
    {
     "name": "stdout",
     "output_type": "stream",
     "text": [
      "False\n"
     ]
    }
   ],
   "source": [
    "from sympy import *\n",
    "a=isprime(24)\n",
    "print(a)"
   ]
  },
  {
   "cell_type": "code",
   "execution_count": 3,
   "id": "1468a22f",
   "metadata": {},
   "outputs": [
    {
     "name": "stdout",
     "output_type": "stream",
     "text": [
      "True\n"
     ]
    }
   ],
   "source": [
    "from sympy import *\n",
    "a=isprime(37)\n",
    "print(a)"
   ]
  },
  {
   "cell_type": "code",
   "execution_count": 4,
   "id": "5b08a3dd",
   "metadata": {},
   "outputs": [
    {
     "name": "stdout",
     "output_type": "stream",
     "text": [
      "True\n"
     ]
    }
   ],
   "source": [
    "from sympy import *\n",
    "a=isprime(479)\n",
    "print(a)"
   ]
  },
  {
   "cell_type": "markdown",
   "id": "58ab0568",
   "metadata": {},
   "source": [
    "# Exercise 2:-"
   ]
  },
  {
   "cell_type": "code",
   "execution_count": 5,
   "id": "cf186326",
   "metadata": {},
   "outputs": [
    {
     "name": "stdout",
     "output_type": "stream",
     "text": [
      "Enter the first number:50\n",
      "Enter the second number:2\n",
      "Product of first number and second number is: 100\n",
      "product is square of number 10\n"
     ]
    }
   ],
   "source": [
    "a=int(input('Enter the first number:'))\n",
    "b=int(input('Enter the second number:'))\n",
    "c=a*b\n",
    "print('Product of first number and second number is:',c)\n",
    "if (c==100):\n",
    "    print('product is square of number 10')\n",
    "else:\n",
    "    print('Multiplication of two numbers is:',c)"
   ]
  },
  {
   "cell_type": "markdown",
   "id": "45a64f4f",
   "metadata": {},
   "source": [
    "# Exercise 3:-"
   ]
  },
  {
   "cell_type": "code",
   "execution_count": 14,
   "id": "cbe4ca25",
   "metadata": {},
   "outputs": [
    {
     "name": "stdout",
     "output_type": "stream",
     "text": [
      "10000\n",
      "101\n",
      "10404\n",
      "103\n",
      "10816\n",
      "105\n",
      "11236\n",
      "107\n",
      "11664\n",
      "109\n",
      "12100\n",
      "111\n",
      "12544\n",
      "113\n",
      "12996\n",
      "115\n",
      "13456\n",
      "117\n",
      "13924\n",
      "119\n",
      "14400\n",
      "121\n",
      "14884\n",
      "123\n",
      "15376\n",
      "125\n",
      "15876\n",
      "127\n",
      "16384\n",
      "129\n",
      "16900\n",
      "131\n",
      "17424\n",
      "133\n",
      "17956\n",
      "135\n",
      "18496\n",
      "137\n",
      "19044\n",
      "139\n",
      "19600\n",
      "141\n",
      "20164\n",
      "143\n",
      "20736\n",
      "145\n",
      "21316\n",
      "147\n",
      "21904\n",
      "149\n",
      "22500\n",
      "151\n",
      "23104\n",
      "153\n",
      "23716\n",
      "155\n",
      "24336\n",
      "157\n",
      "24964\n",
      "159\n",
      "25600\n",
      "161\n",
      "26244\n",
      "163\n",
      "26896\n",
      "165\n",
      "27556\n",
      "167\n",
      "28224\n",
      "169\n",
      "28900\n",
      "171\n",
      "29584\n",
      "173\n",
      "30276\n",
      "175\n",
      "30976\n",
      "177\n",
      "31684\n",
      "179\n",
      "32400\n",
      "181\n",
      "33124\n",
      "183\n",
      "33856\n",
      "185\n",
      "34596\n",
      "187\n",
      "35344\n",
      "189\n",
      "36100\n",
      "191\n",
      "36864\n",
      "193\n",
      "37636\n",
      "195\n",
      "38416\n",
      "197\n",
      "39204\n",
      "199\n",
      "40000\n"
     ]
    }
   ],
   "source": [
    "for i in range(100,201):\n",
    "    if(i%2==0):\n",
    "        print(i**2)\n",
    "    \n",
    "    else:\n",
    "        print(i)\n",
    "    "
   ]
  },
  {
   "cell_type": "markdown",
   "id": "270cc73e",
   "metadata": {},
   "source": [
    "# Exercise 4:-"
   ]
  },
  {
   "cell_type": "code",
   "execution_count": 20,
   "id": "ba7a3dbc",
   "metadata": {},
   "outputs": [],
   "source": [
    "str=('I am Indranil Joshi from Maharashtra and i am pursing my computer science engineering in kolhapur and currently i am doing course of data science in ExcleR Bangalore')\n"
   ]
  },
  {
   "cell_type": "code",
   "execution_count": 21,
   "id": "7c7a5355",
   "metadata": {},
   "outputs": [
    {
     "data": {
      "text/plain": [
       "3"
      ]
     },
     "execution_count": 21,
     "metadata": {},
     "output_type": "execute_result"
    }
   ],
   "source": [
    "str.count('am')"
   ]
  },
  {
   "cell_type": "code",
   "execution_count": 22,
   "id": "350300d2",
   "metadata": {},
   "outputs": [
    {
     "data": {
      "text/plain": [
       "12"
      ]
     },
     "execution_count": 22,
     "metadata": {},
     "output_type": "execute_result"
    }
   ],
   "source": [
    "str.count('i')"
   ]
  },
  {
   "cell_type": "code",
   "execution_count": 23,
   "id": "d47b4702",
   "metadata": {},
   "outputs": [
    {
     "data": {
      "text/plain": [
       "1"
      ]
     },
     "execution_count": 23,
     "metadata": {},
     "output_type": "execute_result"
    }
   ],
   "source": [
    "str.count('computer')"
   ]
  },
  {
   "cell_type": "markdown",
   "id": "9e079789",
   "metadata": {},
   "source": [
    "# Exercise 5:-"
   ]
  },
  {
   "cell_type": "code",
   "execution_count": 31,
   "id": "7356db4d",
   "metadata": {},
   "outputs": [
    {
     "name": "stdout",
     "output_type": "stream",
     "text": [
      "Enter the word that you want:noon\n",
      "The given word is palindrome\n"
     ]
    }
   ],
   "source": [
    "a=input('Enter the word that you want:')\n",
    "if (a==a[::-1]):\n",
    "    print('The given word is palindrome')\n",
    "else:\n",
    "    print('The given word is not palindrome')"
   ]
  },
  {
   "cell_type": "code",
   "execution_count": 32,
   "id": "46eb3c52",
   "metadata": {},
   "outputs": [
    {
     "name": "stdout",
     "output_type": "stream",
     "text": [
      "Enter the word that you want:tiger\n",
      "It is not a palindrome\n"
     ]
    }
   ],
   "source": [
    "b=input('Enter the word that you want:')\n",
    "if (b==b[::-1]):\n",
    "    print('It is palindrome')\n",
    "else:\n",
    "    print('It is not a palindrome')"
   ]
  },
  {
   "cell_type": "code",
   "execution_count": null,
   "id": "67fc5808",
   "metadata": {},
   "outputs": [],
   "source": []
  }
 ],
 "metadata": {
  "kernelspec": {
   "display_name": "Python 3 (ipykernel)",
   "language": "python",
   "name": "python3"
  },
  "language_info": {
   "codemirror_mode": {
    "name": "ipython",
    "version": 3
   },
   "file_extension": ".py",
   "mimetype": "text/x-python",
   "name": "python",
   "nbconvert_exporter": "python",
   "pygments_lexer": "ipython3",
   "version": "3.9.12"
  }
 },
 "nbformat": 4,
 "nbformat_minor": 5
}
